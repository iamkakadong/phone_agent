{
 "cells": [
  {
   "cell_type": "code",
   "execution_count": 1,
   "metadata": {},
   "outputs": [],
   "source": [
    "import os\n",
    "from langchain import LLMChain, OpenAI, PromptTemplate\n",
    "from langchain.chat_models import ChatOpenAI\n",
    "from langchain.agents import initialize_agent, Tool, AgentType\n",
    "from langchain.memory import ConversationBufferMemory\n",
    "\n",
    "from langchain.schema import SystemMessage"
   ]
  },
  {
   "cell_type": "code",
   "execution_count": null,
   "metadata": {},
   "outputs": [],
   "source": [
    "OPENAI_API_KEY = os.environ[\"OPENAI_API_KEY_PERSONAL\"]"
   ]
  },
  {
   "cell_type": "code",
   "execution_count": null,
   "metadata": {},
   "outputs": [],
   "source": [
    "tools=[]\n",
    "memory = ConversationBufferMemory(memory_key=\"chat_history\", return_messages=True)\n",
    "llm = ChatOpenAI(openai_api_key=OPENAI_API_KEY, temperature=0)\n",
    "agent_chain = initialize_agent(\n",
    "    tools, llm, agent=AgentType.CHAT_CONVERSATIONAL_REACT_DESCRIPTION, verbose=True, memory=memory,\n",
    "    agent_kwargs={'system_message': \"You are a helpful agent that helps people achieve their goal in a phone call conversation. Your specific goal is to help Tianshu book a reservation at restaurant Madcap. You are speaking on behalf of Tianshu in a conversation with the restaurant staff. Since you are receiving a live transcript from the phone call, sometimes a sentence may not be completed yet. In that case, you should simply output NO_ACTION.\"},\n",
    "    handle_parsing_errors=True,\n",
    "    max_iterations=3,\n",
    ")"
   ]
  },
  {
   "cell_type": "code",
   "execution_count": null,
   "metadata": {},
   "outputs": [],
   "source": [
    "agent_chain.run(input=\"Phone: Hello, this is...\")"
   ]
  },
  {
   "cell_type": "code",
   "execution_count": null,
   "metadata": {},
   "outputs": [],
   "source": [
    "agent_chain.agent.llm_chain.prompt"
   ]
  },
  {
   "cell_type": "code",
   "execution_count": null,
   "metadata": {},
   "outputs": [],
   "source": [
    "import openai\n",
    "\n",
    "openai.api_key = OPENAI_API_KEY\n",
    "openai.ChatCompletion.create(\n",
    "    model=\"gpt-3.5-turbo\",\n",
    "    messages=[\n",
    "        {\"role\": \"system\", \"content\": \"\"\"\n",
    "        You are a helpful agent that helps people achieve their goal in a phone call conversation. Your specific goal is to help Tianshu make an appointment for his son Winston's 10-month vaccination at Ramblc Pediatric. You are speaking on behalf of Tianshu in a conversation with the staff. \n",
    "        \n",
    "        - Please only respond to the current conversation for Tianshu. DO NOT generate any response for Ramblc Pediatric. \n",
    "        - Since you are receiving a live transcript from the phone call, sometimes a sentence may not be completed yet. In that case, you should simply output [NO_ACTION]. \n",
    "        - When you have achieved the goal, just output [END_CALL] at the end of your response.\n",
    "        \"\"\"},\n",
    "        {\"role\": \"user\", \"content\": f\"\"\"\n",
    "         Phone: How may I help you?\n",
    "         You: \"\"\"},\n",
    "        {\"role\": \"assistant\", \"content\": \"Yes, I would like to make an appointment for my son's 10-month vaccination at Ramblc Pediatric.\"},\n",
    "        {\"role\": \"user\", \"content\": \"\"\"\n",
    "            Phone: Sure, what is your son's name again?\n",
    "            You: \"\"\"},\n",
    "        {\"role\": \"assistant\", \"content\": \"My son's name is Winston.\"},\n",
    "        {\"role\": \"user\", \"content\": \"\"\"\n",
    "         Phone: Oh, his mom just called and made the appointment\n",
    "            You: \"\"\"},\n",
    "        {\"role\": \"assistant\", \"content\": \"Oh, great! So the appointment is already scheduled then?\"},\n",
    "        {\"role\": \"user\", \"content\": \"\"\"Phone: Yes. The appointment is scheduled for 4:30pm on Oct 4th.\n",
    "         You: \"\"\"},\n",
    "        {\"role\": \"assistant\", \"content\": \"That's perfect. Thank you so much for your help. That's all I needed.\"},\n",
    "        {\"role\": \"user\", \"content\": \"\"\"Phone: Is there anything else I can help you with...\n",
    "         You: \"\"\"},\n",
    "    ],\n",
    "    temperature=0,\n",
    ")"
   ]
  },
  {
   "cell_type": "code",
   "execution_count": 1,
   "metadata": {},
   "outputs": [],
   "source": [
    "from src.agent import Agent, Task\n",
    "\n",
    "agent = Agent(Task(name=\"Tianshu\", goal=\"make a reservation at restaurant Madcap for 2 people on Friday 7pm\"))"
   ]
  },
  {
   "cell_type": "code",
   "execution_count": 2,
   "metadata": {},
   "outputs": [
    {
     "name": "stdout",
     "output_type": "stream",
     "text": [
      "Hi, this is Tianshu. I would like to make a reservation at Madcap for 2 people on Friday at 7pm.\n"
     ]
    }
   ],
   "source": [
    "print(agent.get_response(\"Hello, this is...\"))"
   ]
  },
  {
   "cell_type": "code",
   "execution_count": 3,
   "metadata": {},
   "outputs": [
    {
     "data": {
      "text/plain": [
       "[{'role': 'system',\n",
       "  'content': '\\n            You are a helpful assistant that makes phone call for people to achieve their goals. You will be receiving a live transcript of the phone call and should respond to the conversation.\\n            Your specific goal is to help Tianshu make a reservation at restaurant Madcap for 2 people on Friday 7pm.\\n            You are going to speak on behalf of Tianshu.\\n        \\n            Keep the following rules in mind:\\n            - Please only respond to the current conversation for Tianshu. DO NOT generate any response for the other person over the phone. \\n            - Since you are receiving a live transcript from the phone call, sometimes a sentence may not be completed yet. In that case, you should simply output [NO_ACTION].\\n            - When you have achieved the goal and is ready to hang up, just output [END_CALL] at the end of your response.\\n        '},\n",
       " {'role': 'user', 'content': 'Phone: Hello, this is...\\n            You: '},\n",
       " {'role': 'system',\n",
       "  'content': 'Hi, this is Tianshu. I would like to make a reservation at Madcap for 2 people on Friday at 7pm.'}]"
      ]
     },
     "execution_count": 3,
     "metadata": {},
     "output_type": "execute_result"
    }
   ],
   "source": [
    "agent._construct_chat_messages_from_history()"
   ]
  },
  {
   "cell_type": "code",
   "execution_count": 4,
   "metadata": {},
   "outputs": [],
   "source": [
    "agent.clear_history()"
   ]
  },
  {
   "cell_type": "code",
   "execution_count": 5,
   "metadata": {},
   "outputs": [
    {
     "data": {
      "text/plain": [
       "[{'role': 'system',\n",
       "  'content': '\\n            You are a helpful assistant that makes phone call for people to achieve their goals. You will be receiving a live transcript of the phone call and should respond to the conversation.\\n            Your specific goal is to help Tianshu make a reservation at restaurant Madcap for 2 people on Friday 7pm.\\n            You are going to speak on behalf of Tianshu.\\n        \\n            Keep the following rules in mind:\\n            - Please only respond to the current conversation for Tianshu. DO NOT generate any response for the other person over the phone. \\n            - Since you are receiving a live transcript from the phone call, sometimes a sentence may not be completed yet. In that case, you should simply output [NO_ACTION].\\n            - When you have achieved the goal and is ready to hang up, just output [END_CALL] at the end of your response.\\n        '}]"
      ]
     },
     "execution_count": 5,
     "metadata": {},
     "output_type": "execute_result"
    }
   ],
   "source": [
    "agent._construct_chat_messages_from_history()"
   ]
  },
  {
   "cell_type": "code",
   "execution_count": 7,
   "metadata": {},
   "outputs": [
    {
     "data": {
      "text/plain": [
       "'Hi, I would like to make a reservation for 2 people at Madcap on Friday at 7pm. Can you accommodate us?'"
      ]
     },
     "execution_count": 7,
     "metadata": {},
     "output_type": "execute_result"
    }
   ],
   "source": [
    "agent.get_response(\"Hello, Madcap. How may I help you?\")"
   ]
  },
  {
   "cell_type": "code",
   "execution_count": 8,
   "metadata": {},
   "outputs": [
    {
     "data": {
      "text/plain": [
       "[{'role': 'system',\n",
       "  'content': '\\n            You are a helpful assistant that makes phone call for people to achieve their goals. You will be receiving a live transcript of the phone call and should respond to the conversation.\\n            Your specific goal is to help Tianshu make a reservation at restaurant Madcap for 2 people on Friday 7pm.\\n            You are going to speak on behalf of Tianshu.\\n        \\n            Keep the following rules in mind:\\n            - Please only respond to the current conversation for Tianshu. DO NOT generate any response for the other person over the phone. \\n            - Since you are receiving a live transcript from the phone call, sometimes a sentence may not be completed yet. In that case, you should simply output [NO_ACTION].\\n            - When you have achieved the goal and is ready to hang up, just output [END_CALL] at the end of your response.\\n        '},\n",
       " {'role': 'user', 'content': 'Phone: Hello, this...\\n            You: '},\n",
       " {'role': 'system',\n",
       "  'content': 'Hi, this is Tianshu. I would like to make a reservation at Madcap for 2 people on Friday at 7pm. Can you help me with that?'},\n",
       " {'role': 'user',\n",
       "  'content': 'Phone: Hello, Madcap. How may I help you?\\n            You: '},\n",
       " {'role': 'system',\n",
       "  'content': 'Hi, I would like to make a reservation for 2 people at Madcap on Friday at 7pm. Can you accommodate us?'}]"
      ]
     },
     "execution_count": 8,
     "metadata": {},
     "output_type": "execute_result"
    }
   ],
   "source": [
    "agent._construct_chat_messages_from_history()"
   ]
  },
  {
   "cell_type": "code",
   "execution_count": 9,
   "metadata": {},
   "outputs": [
    {
     "data": {
      "text/plain": [
       "'[NO_ACTION]'"
      ]
     },
     "execution_count": 9,
     "metadata": {},
     "output_type": "execute_result"
    }
   ],
   "source": [
    "agent.get_response(\"Sure. Give me a momem..\")"
   ]
  },
  {
   "cell_type": "code",
   "execution_count": 10,
   "metadata": {},
   "outputs": [
    {
     "data": {
      "text/plain": [
       "[{'role': 'system',\n",
       "  'content': '\\n            You are a helpful assistant that makes phone call for people to achieve their goals. You will be receiving a live transcript of the phone call and should respond to the conversation.\\n            Your specific goal is to help Tianshu make a reservation at restaurant Madcap for 2 people on Friday 7pm.\\n            You are going to speak on behalf of Tianshu.\\n        \\n            Keep the following rules in mind:\\n            - Please only respond to the current conversation for Tianshu. DO NOT generate any response for the other person over the phone. \\n            - Since you are receiving a live transcript from the phone call, sometimes a sentence may not be completed yet. In that case, you should simply output [NO_ACTION].\\n            - When you have achieved the goal and is ready to hang up, just output [END_CALL] at the end of your response.\\n        '},\n",
       " {'role': 'user', 'content': 'Phone: Hello, this...\\n            You: '},\n",
       " {'role': 'system',\n",
       "  'content': 'Hi, this is Tianshu. I would like to make a reservation at Madcap for 2 people on Friday at 7pm. Can you help me with that?'},\n",
       " {'role': 'user',\n",
       "  'content': 'Phone: Hello, Madcap. How may I help you?\\n            You: '},\n",
       " {'role': 'system',\n",
       "  'content': 'Hi, I would like to make a reservation for 2 people at Madcap on Friday at 7pm. Can you accommodate us?'}]"
      ]
     },
     "execution_count": 10,
     "metadata": {},
     "output_type": "execute_result"
    }
   ],
   "source": [
    "agent._construct_chat_messages_from_history()"
   ]
  },
  {
   "cell_type": "code",
   "execution_count": 11,
   "metadata": {},
   "outputs": [
    {
     "data": {
      "text/plain": [
       "'Thank you, I appreciate it.'"
      ]
     },
     "execution_count": 11,
     "metadata": {},
     "output_type": "execute_result"
    }
   ],
   "source": [
    "agent.get_response(\"Sure. Give me a moment while I check the availability.\")"
   ]
  },
  {
   "cell_type": "code",
   "execution_count": 12,
   "metadata": {},
   "outputs": [
    {
     "data": {
      "text/plain": [
       "'[NO_ACTION]'"
      ]
     },
     "execution_count": 12,
     "metadata": {},
     "output_type": "execute_result"
    }
   ],
   "source": [
    "agent.get_response(\"...\")"
   ]
  },
  {
   "cell_type": "code",
   "execution_count": 13,
   "metadata": {},
   "outputs": [
    {
     "data": {
      "text/plain": [
       "'Yes, my name is Tianshu.'"
      ]
     },
     "execution_count": 13,
     "metadata": {},
     "output_type": "execute_result"
    }
   ],
   "source": [
    "agent.get_response(\"thank you for waiting. I have a table for 2 people on Friday at 7pm. May I have your name please?\")"
   ]
  },
  {
   "cell_type": "code",
   "execution_count": null,
   "metadata": {},
   "outputs": [],
   "source": []
  }
 ],
 "metadata": {
  "kernelspec": {
   "display_name": "venv",
   "language": "python",
   "name": "python3"
  },
  "language_info": {
   "codemirror_mode": {
    "name": "ipython",
    "version": 3
   },
   "file_extension": ".py",
   "mimetype": "text/x-python",
   "name": "python",
   "nbconvert_exporter": "python",
   "pygments_lexer": "ipython3",
   "version": "3.9.4"
  },
  "orig_nbformat": 4
 },
 "nbformat": 4,
 "nbformat_minor": 2
}
