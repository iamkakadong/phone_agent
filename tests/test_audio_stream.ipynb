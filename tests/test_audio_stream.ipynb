{
 "cells": [
  {
   "cell_type": "code",
   "execution_count": 2,
   "metadata": {},
   "outputs": [
    {
     "name": "stdout",
     "output_type": "stream",
     "text": [
      "You mentioned LVMH before. I actually, if I look and compare your business to LVMH.\n",
      "Similar, because if you talk to Bernard Arnault and you see the infrastructure of what they've built in the abstractions, similar, because if you talk to Bernard Arnault and you see the infrastructure of what they've built in the abstractions.\n"
     ]
    },
    {
     "ename": "KeyboardInterrupt",
     "evalue": "",
     "output_type": "error",
     "traceback": [
      "\u001b[0;31m---------------------------------------------------------------------------\u001b[0m",
      "\u001b[0;31mKeyboardInterrupt\u001b[0m                         Traceback (most recent call last)",
      "\u001b[1;32m/Users/tianshuren/phone_agent/tests/test_audio_stream.ipynb Cell 1\u001b[0m line \u001b[0;36m2\n\u001b[1;32m     <a href='vscode-notebook-cell:/Users/tianshuren/phone_agent/tests/test_audio_stream.ipynb#W0sZmlsZQ%3D%3D?line=16'>17</a>\u001b[0m stream \u001b[39m=\u001b[39m get_audio_stream(block_size \u001b[39m=\u001b[39m \u001b[39m44100\u001b[39m\u001b[39m*\u001b[39m\u001b[39m5\u001b[39m, callback_func\u001b[39m=\u001b[39mon_callback)\n\u001b[1;32m     <a href='vscode-notebook-cell:/Users/tianshuren/phone_agent/tests/test_audio_stream.ipynb#W0sZmlsZQ%3D%3D?line=18'>19</a>\u001b[0m \u001b[39mwith\u001b[39;00m stream:\n\u001b[1;32m     <a href='vscode-notebook-cell:/Users/tianshuren/phone_agent/tests/test_audio_stream.ipynb#W0sZmlsZQ%3D%3D?line=19'>20</a>\u001b[0m     \u001b[39m# sleep for 5 seconds\u001b[39;00m\n\u001b[0;32m---> <a href='vscode-notebook-cell:/Users/tianshuren/phone_agent/tests/test_audio_stream.ipynb#W0sZmlsZQ%3D%3D?line=20'>21</a>\u001b[0m     time\u001b[39m.\u001b[39;49msleep(\u001b[39m50\u001b[39;49m)\n",
      "\u001b[0;31mKeyboardInterrupt\u001b[0m: "
     ]
    }
   ],
   "source": [
    "import os\n",
    "import time\n",
    "from src.services import Transcriber\n",
    "from src.stream import *\n",
    "\n",
    "buffer: np.ndarray = None\n",
    "def on_callback(indata, frames, time, status):\n",
    "    global buffer\n",
    "    if buffer is None:\n",
    "        buffer = indata\n",
    "    else:\n",
    "        buffer = np.concatenate((buffer, indata), axis=0)\n",
    "    \n",
    "    transcribed_text = Transcriber.transcribe(buffer)\n",
    "    print(transcribed_text)\n",
    "\n",
    "stream = get_audio_stream(block_size = 44100*5, callback_func=on_callback)\n",
    "\n",
    "with stream:\n",
    "    # sleep for 5 seconds\n",
    "    time.sleep(50)"
   ]
  },
  {
   "cell_type": "code",
   "execution_count": null,
   "metadata": {},
   "outputs": [],
   "source": [
    "import openai\n",
    "# write(\"tmp/temp.wav\", 44100, audio)\n",
    "audio_file = open(\"tmp/temp.wav\", 'rb')\n",
    "transcript = openai.Audio.transcribe(\"whisper-1\", audio_file)\n",
    "# return transcript['text']"
   ]
  },
  {
   "cell_type": "code",
   "execution_count": null,
   "metadata": {},
   "outputs": [],
   "source": [
    "transcript"
   ]
  }
 ],
 "metadata": {
  "kernelspec": {
   "display_name": "venv",
   "language": "python",
   "name": "python3"
  },
  "language_info": {
   "codemirror_mode": {
    "name": "ipython",
    "version": 3
   },
   "file_extension": ".py",
   "mimetype": "text/x-python",
   "name": "python",
   "nbconvert_exporter": "python",
   "pygments_lexer": "ipython3",
   "version": "3.9.4"
  },
  "orig_nbformat": 4
 },
 "nbformat": 4,
 "nbformat_minor": 2
}
